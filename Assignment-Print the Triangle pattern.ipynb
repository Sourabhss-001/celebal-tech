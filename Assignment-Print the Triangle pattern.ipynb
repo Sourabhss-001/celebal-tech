{
 "cells": [
  {
   "cell_type": "markdown",
   "id": "2e26ef8c-1c2b-4057-b93d-8605785ca29d",
   "metadata": {},
   "source": [
    "# Lower Triangle pattern"
   ]
  },
  {
   "cell_type": "code",
   "execution_count": 10,
   "id": "b9aca69a-b0c0-4a7a-9f3f-2d2ee29481b7",
   "metadata": {},
   "outputs": [
    {
     "name": "stdout",
     "output_type": "stream",
     "text": [
      "*  \n",
      "*  *  \n",
      "*  *  *  \n",
      "*  *  *  *  \n",
      "*  *  *  *  *  \n",
      "*  *  *  *  *  *  \n",
      "*  *  *  *  *  *  *  \n",
      "*  *  *  *  *  *  *  *  \n"
     ]
    }
   ],
   "source": [
    "def lower_triangular(n):\n",
    "    for i in range (n):\n",
    "        for j in range (i+1):\n",
    "            print('*', end = '  ')\n",
    "        print()\n",
    "n = 8\n",
    "lower_triangular(n)\n"
   ]
  },
  {
   "cell_type": "markdown",
   "id": "c34d466c-4df0-4290-95f1-5bdb84ed228f",
   "metadata": {},
   "source": [
    "# Upper Triangle pattern"
   ]
  },
  {
   "cell_type": "code",
   "execution_count": 13,
   "id": "cc7d2bab-a123-4526-8270-07273bd0fb8b",
   "metadata": {},
   "outputs": [
    {
     "name": "stdout",
     "output_type": "stream",
     "text": [
      "*  *  *  *  *  *  *  *  \n",
      "   *  *  *  *  *  *  *  \n",
      "      *  *  *  *  *  *  \n",
      "         *  *  *  *  *  \n",
      "            *  *  *  *  \n",
      "               *  *  *  \n",
      "                  *  *  \n",
      "                     *  \n"
     ]
    }
   ],
   "source": [
    "def upper_triangular(n):\n",
    "    for i in range(n):\n",
    "        for j in range(n):\n",
    "            if j >= i:\n",
    "                print('*', end='  ')\n",
    "            else:\n",
    "                print(' ', end='  ')\n",
    "        print()\n",
    "\n",
    "# Example usage\n",
    "n = 8\n",
    "upper_triangular(n)\n"
   ]
  },
  {
   "cell_type": "markdown",
   "id": "9b81a0a5-01fe-466d-9e86-3a8929476393",
   "metadata": {},
   "source": [
    "# Pyramid Pattern"
   ]
  },
  {
   "cell_type": "code",
   "execution_count": 22,
   "id": "5cce7ee8-6a11-407d-afd2-d0b77a30e75f",
   "metadata": {},
   "outputs": [
    {
     "name": "stdout",
     "output_type": "stream",
     "text": [
      "       * \n",
      "      * * \n",
      "     * * * \n",
      "    * * * * \n",
      "   * * * * * \n",
      "  * * * * * * \n",
      " * * * * * * * \n",
      "* * * * * * * * \n"
     ]
    }
   ],
   "source": [
    "def pyramid(n):\n",
    "    for i in range(n):\n",
    "        print(' ' * (n - i - 1) + '* ' * (i + 1))\n",
    "\n",
    "# Example usage\n",
    "n = 8\n",
    "pyramid(n)\n"
   ]
  },
  {
   "cell_type": "code",
   "execution_count": null,
   "id": "7649c340-3425-42a1-bb19-9a9eff71036c",
   "metadata": {},
   "outputs": [],
   "source": []
  }
 ],
 "metadata": {
  "kernelspec": {
   "display_name": "Python 3 (ipykernel)",
   "language": "python",
   "name": "python3"
  },
  "language_info": {
   "codemirror_mode": {
    "name": "ipython",
    "version": 3
   },
   "file_extension": ".py",
   "mimetype": "text/x-python",
   "name": "python",
   "nbconvert_exporter": "python",
   "pygments_lexer": "ipython3",
   "version": "3.12.3"
  }
 },
 "nbformat": 4,
 "nbformat_minor": 5
}
