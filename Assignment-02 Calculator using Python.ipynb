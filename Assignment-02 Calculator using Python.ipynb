{
 "cells": [
  {
   "cell_type": "markdown",
   "id": "31937d33-d206-479e-bdf4-cdbdf4988c9b",
   "metadata": {},
   "source": [
    "# Calculator using Python"
   ]
  },
  {
   "cell_type": "code",
   "execution_count": 34,
   "id": "dc610ffe-0377-4ad5-b2e2-17adf7aac2ba",
   "metadata": {},
   "outputs": [
    {
     "name": "stdout",
     "output_type": "stream",
     "text": [
      "Choose one from following: \n",
      "1. Addition\n",
      "2. Subtraction\n",
      "3. Multiplication\n",
      "4. Division\n",
      " \n"
     ]
    },
    {
     "name": "stdin",
     "output_type": "stream",
     "text": [
      "Enter the method from above: \n",
      " 4\n",
      "\n",
      "Enter the value of a:  7\n",
      "Enter the value of b:  5\n"
     ]
    },
    {
     "name": "stdout",
     "output_type": "stream",
     "text": [
      "\n",
      "The division of 7 and 5 is 1.4.\n"
     ]
    }
   ],
   "source": [
    "def add(a,b):\n",
    "    print(f\"The addition of {a} and {b} is {a+b}.\")\n",
    "\n",
    "def subtract (a,b):\n",
    "    print(f\"The subtraction of {a} and {b} is {a-b}.\")\n",
    "\n",
    "def multiply (a,b):\n",
    "    print(f\"The multiplication of {a} and {b} is {a*b}.\")\n",
    "\n",
    "def divide (a,b):\n",
    "    if b == 0 :\n",
    "        print(\"Invalid error, b can't be 0.\")\n",
    "    else:\n",
    "        print(f\"The division of {a} and {b} is {a/b}.\")\n",
    "\n",
    "print(\"Choose one from following: \")\n",
    "print(f\"1. Addition\\n2. Subtraction\\n3. Multiplication\\n4. Division\\n \")\n",
    "\n",
    "choose = int(input(f\"Enter the method from above: \\n\"))\n",
    "\n",
    "\n",
    "a = int(input(\"\\nEnter the value of a: \"))\n",
    "b = int(input(\"Enter the value of b: \"))\n",
    "\n",
    "print()\n",
    "\n",
    "if choose == 1:\n",
    "    add(a,b)\n",
    "\n",
    "elif choose == 2:\n",
    "    subtract(a,b)\n",
    "\n",
    "elif choose == 3:\n",
    "    multiply(a,b)\n",
    "\n",
    "elif choose == 4:\n",
    "    divide(a,b)\n",
    "\n",
    "else:\n",
    "    print(\"Invalid choosen method!\")"
   ]
  },
  {
   "cell_type": "code",
   "execution_count": null,
   "id": "5190dc67-7c88-46e0-9679-fa22d7ae10d3",
   "metadata": {},
   "outputs": [],
   "source": []
  }
 ],
 "metadata": {
  "kernelspec": {
   "display_name": "Python 3 (ipykernel)",
   "language": "python",
   "name": "python3"
  },
  "language_info": {
   "codemirror_mode": {
    "name": "ipython",
    "version": 3
   },
   "file_extension": ".py",
   "mimetype": "text/x-python",
   "name": "python",
   "nbconvert_exporter": "python",
   "pygments_lexer": "ipython3",
   "version": "3.12.3"
  }
 },
 "nbformat": 4,
 "nbformat_minor": 5
}
